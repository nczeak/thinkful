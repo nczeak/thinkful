{
 "cells": [
  {
   "cell_type": "code",
   "execution_count": 3,
   "metadata": {},
   "outputs": [],
   "source": [
    "import pandas as pd\n",
    "import numpy as np"
   ]
  },
  {
   "cell_type": "markdown",
   "metadata": {},
   "source": [
    "# Problem 1:\n",
    "\n",
    "Greg was 14, Marcia was 12, Peter was 11, Jan was 10, Bobby was 8, and Cindy was 6 when they started playing the Brady kids on The Brady Bunch. Cousin Oliver was 8 years old when he joined the show. What are the mean, median, and mode of the kids' ages when they first appeared on the show? What are the variance, standard deviation, and standard error?"
   ]
  },
  {
   "cell_type": "code",
   "execution_count": 11,
   "metadata": {
    "scrolled": true
   },
   "outputs": [
    {
     "name": "stdout",
     "output_type": "stream",
     "text": [
      "Mean: 9.857142857142858\n",
      "Median: 10.0\n",
      "Mode: 0    8\n",
      "dtype: int64\n",
      "Variance: 7.476190476190475\n",
      "Standard Deviation: 2.734262327610589\n",
      "Standard Error: 1.0334540197243192\n"
     ]
    }
   ],
   "source": [
    "bradyDataFrame = pd.DataFrame()\n",
    "bradyDataFrame[\"Names\"] = [\"Greg\", \"Marcia\", \"Peter\", \"Jan\", \"Bobby\", \"Cindy\", \"Cousin Oliver\"]\n",
    "bradyDataFrame[\"Ages\"] = [14, 12, 11, 10, 8, 6, 8]\n",
    "\n",
    "print(\"Mean: \" + str(bradyDataFrame[\"Ages\"].mean()))\n",
    "print(\"Median: \" + str(bradyDataFrame[\"Ages\"].median()))\n",
    "print(\"Mode: \" + str(bradyDataFrame[\"Ages\"].mode()))\n",
    "\n",
    "print(\"Variance: \" + str(bradyDataFrame[\"Ages\"].var()))\n",
    "print(\"Standard Deviation: \" + str(bradyDataFrame[\"Ages\"].std()))\n",
    "print(\"Standard Error: \" + str(bradyDataFrame[\"Ages\"].sem()))"
   ]
  },
  {
   "cell_type": "markdown",
   "metadata": {},
   "source": [
    "# Problem 2:\n",
    "\n",
    "Using these estimates, if you had to choose only one estimate of central tendency and one estimate of variance to describe the data, which would you pick and why?"
   ]
  },
  {
   "cell_type": "markdown",
   "metadata": {},
   "source": [
    "Since the data is symmetrical, I'm going to choose to use the mean as the estimate of the central tendency, and the standard deviation as the estimate of the variance."
   ]
  },
  {
   "cell_type": "markdown",
   "metadata": {},
   "source": [
    "# Problem 3:\n",
    "\n",
    "Next, Cindy has a birthday. Update your estimates- what changed, and what didn't?"
   ]
  },
  {
   "cell_type": "code",
   "execution_count": 12,
   "metadata": {},
   "outputs": [
    {
     "name": "stdout",
     "output_type": "stream",
     "text": [
      "Mean: 10.0\n",
      "Median: 10.0\n",
      "Mode: 0    8\n",
      "dtype: int64\n",
      "Variance: 6.333333333333333\n",
      "Standard Deviation: 2.516611478423583\n",
      "Standard Error: 0.9511897312113418\n"
     ]
    }
   ],
   "source": [
    "bradyDataFrame.loc[bradyDataFrame[\"Names\"] == \"Cindy\", \"Ages\"] += 1\n",
    "\n",
    "print(\"Mean: \" + str(bradyDataFrame[\"Ages\"].mean()))\n",
    "print(\"Median: \" + str(bradyDataFrame[\"Ages\"].median()))\n",
    "print(\"Mode: \" + str(bradyDataFrame[\"Ages\"].mode()))\n",
    "\n",
    "print(\"Variance: \" + str(bradyDataFrame[\"Ages\"].var()))\n",
    "print(\"Standard Deviation: \" + str(bradyDataFrame[\"Ages\"].std()))\n",
    "print(\"Standard Error: \" + str(bradyDataFrame[\"Ages\"].sem()))"
   ]
  },
  {
   "cell_type": "markdown",
   "metadata": {},
   "source": [
    "All of the variance estimates changed. The mean also changed. The only two estimates that did not change were the median and the mode."
   ]
  },
  {
   "cell_type": "markdown",
   "metadata": {},
   "source": [
    "# Problem 4:\n",
    "\n",
    "Nobody likes Cousin Oliver. Maybe the network should have used an even younger actor. Replace Cousin Oliver with 1-year-old Jessica, then recalculate again. Does this change your choice of central tendency or variance estimation methods?"
   ]
  },
  {
   "cell_type": "code",
   "execution_count": 13,
   "metadata": {},
   "outputs": [
    {
     "name": "stdout",
     "output_type": "stream",
     "text": [
      "Mean: 9.0\n",
      "Median: 10.0\n",
      "Mode: 0     1\n",
      "1     7\n",
      "2     8\n",
      "3    10\n",
      "4    11\n",
      "5    12\n",
      "6    14\n",
      "dtype: int64\n",
      "Variance: 18.0\n",
      "Standard Deviation: 4.242640687119285\n",
      "Standard Error: 1.6035674514745462\n"
     ]
    }
   ],
   "source": [
    "bradyDataFrame.loc[(bradyDataFrame[\"Names\"] == \"Cousin Oliver\") & (bradyDataFrame[\"Ages\"] == 8)] = [[\"Jessica\", 1]]\n",
    "\n",
    "print(\"Mean: \" + str(bradyDataFrame[\"Ages\"].mean()))\n",
    "print(\"Median: \" + str(bradyDataFrame[\"Ages\"].median()))\n",
    "print(\"Mode: \" + str(bradyDataFrame[\"Ages\"].mode()))\n",
    "\n",
    "print(\"Variance: \" + str(bradyDataFrame[\"Ages\"].var()))\n",
    "print(\"Standard Deviation: \" + str(bradyDataFrame[\"Ages\"].std()))\n",
    "print(\"Standard Error: \" + str(bradyDataFrame[\"Ages\"].sem()))"
   ]
  },
  {
   "cell_type": "markdown",
   "metadata": {},
   "source": [
    "Since the data is no longer as symmetrical, I would use median as the estimate of central tendency. I would also use variance to describe the non-normal distribution."
   ]
  },
  {
   "cell_type": "markdown",
   "metadata": {},
   "source": [
    "# Problem 5:\n",
    "\n",
    "On the 50th anniversary of The Brady Bunch, four different magazines asked their readers whether they were fans of the show. The answers were: TV Guide 20% fans Entertainment Weekly 23% fans Pop Culture Today 17% fans SciPhi Phanatic 5% fans\n",
    "\n",
    "Based on these numbers, what percentage of adult Americans would you estimate were Brady Bunch fans on the 50th anniversary of the show?"
   ]
  },
  {
   "cell_type": "code",
   "execution_count": 14,
   "metadata": {},
   "outputs": [
    {
     "name": "stdout",
     "output_type": "stream",
     "text": [
      "Percentage Median: 18.5\n",
      "Percentage Mean: 16.25\n"
     ]
    }
   ],
   "source": [
    "percentageArray = np.array([20, 23, 17, 5])\n",
    "\n",
    "print(\"Percentage Median: \" + str(np.median(percentageArray)))\n",
    "print(\"Percentage Mean: \" + str(np.mean(percentageArray)))"
   ]
  },
  {
   "cell_type": "markdown",
   "metadata": {},
   "source": [
    "I would use the median to estimate that around 18.5% of adult Americans were fans of the Brady Bunch. I would use median over mean because the data was non-symmetrical. The 5% from a single magazine tanked the mean, while the median was able to have an estimate closer to the middle of the data."
   ]
  }
 ],
 "metadata": {
  "kernelspec": {
   "display_name": "Python 3",
   "language": "python",
   "name": "python3"
  },
  "language_info": {
   "codemirror_mode": {
    "name": "ipython",
    "version": 3
   },
   "file_extension": ".py",
   "mimetype": "text/x-python",
   "name": "python",
   "nbconvert_exporter": "python",
   "pygments_lexer": "ipython3",
   "version": "3.7.0"
  }
 },
 "nbformat": 4,
 "nbformat_minor": 2
}
