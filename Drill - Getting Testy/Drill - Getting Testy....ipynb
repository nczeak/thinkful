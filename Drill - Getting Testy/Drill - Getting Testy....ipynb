{
 "cells": [
  {
   "cell_type": "markdown",
   "metadata": {},
   "source": [
    "# Drill 1:"
   ]
  },
  {
   "cell_type": "markdown",
   "metadata": {},
   "source": [
    "1) Use a placebo pill as a control, and the actual sleep supplement as the test variable.\n",
    "\n",
    "2) Be sure to randomly select participants, and ensure that there is not a huge difference between demographics.\n",
    "\n",
    "3) Form a hypothesis centered around the placebo and the sleep supplement. Our hypothesis should be \"We believe the sleep supplement will have participants sleep longer, and fall asleep quicker.\"\n",
    "\n",
    "4) Taken from the hypothesis, our measurements of measure will be how long participants sleep and how quickly they fall asleep.\n",
    "\n",
    "5) Key demographics like age and gender could be used to ensure that the two groups are similar. A secondary outcome could also be how satisfied the participant is after their sleep."
   ]
  },
  {
   "cell_type": "markdown",
   "metadata": {},
   "source": [
    "# Drill 2:"
   ]
  },
  {
   "cell_type": "markdown",
   "metadata": {},
   "source": [
    "1) Use the old uniforms as a control, and the new uniforms as the test variable.\n",
    "\n",
    "2) Ensure that the testing is done on similar days. For example, run all test on Saturdays. Also make sure that the enployees are constant on testing days.\n",
    "\n",
    "3) I believe that the new uniforms will generate more revenue than the old uniforms.\n",
    "\n",
    "4) Revenue can be defined as extra services purchased, workout supplements or beverages purchased, and gym membership renewal.\n",
    "\n",
    "5) Check to make sure that participants are relatively the same. You could also keep track of exact individuals at the gym. A secondary outcome could include comments made by gym patrons (\"Your new uniforms look so nice!\")."
   ]
  },
  {
   "cell_type": "markdown",
   "metadata": {},
   "source": [
    "# Drill 3:"
   ]
  },
  {
   "cell_type": "markdown",
   "metadata": {},
   "source": [
    "1) Use the data from the old homepage as a control, and the data from the new homepage as the test variable.\n",
    "\n",
    "2) Since the data is coming from anonymous internet users, tracking the sample will be difficult, and can be considered random.\n",
    "\n",
    "3) I believe the new homepage will improve business.\n",
    "\n",
    "4) Page clicks, time spent on site, and purchases made would be key metrics in determining which homepage is better.\n",
    "\n",
    "5) A secondary outcome would be visitor feedback."
   ]
  },
  {
   "cell_type": "markdown",
   "metadata": {},
   "source": [
    "# Drill 4:"
   ]
  },
  {
   "cell_type": "markdown",
   "metadata": {},
   "source": [
    "1) Send the same email to two different groups using the bare email subject as the control, and the addition of \"Please Read\" to the email subject as the test variable.\n",
    "\n",
    "2) Ensure that the two groups are reasonably the same by key demographics. Also make sure that the sample groups are the same size\n",
    "\n",
    "3) I believe the addition of \"Please Read\" to the email subject will increase the amount of people that read the email.\n",
    "\n",
    "4) Amount of people that opened the email would be the key metric.\n",
    "\n",
    "5) Recipient feedback would be a secondary measurement."
   ]
  }
 ],
 "metadata": {
  "kernelspec": {
   "display_name": "Python 3",
   "language": "python",
   "name": "python3"
  },
  "language_info": {
   "codemirror_mode": {
    "name": "ipython",
    "version": 3
   },
   "file_extension": ".py",
   "mimetype": "text/x-python",
   "name": "python",
   "nbconvert_exporter": "python",
   "pygments_lexer": "ipython3",
   "version": "3.7.0"
  }
 },
 "nbformat": 4,
 "nbformat_minor": 2
}
