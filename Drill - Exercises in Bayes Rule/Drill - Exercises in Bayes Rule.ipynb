{
 "cells": [
  {
   "cell_type": "code",
   "execution_count": 1,
   "metadata": {},
   "outputs": [],
   "source": [
    "import numpy as np\n",
    "positiveTestGivenInfected = 0.98\n",
    "positiveTestGivenNotInfected = 0.1\n",
    "percentOfSufferers = 0.005"
   ]
  },
  {
   "cell_type": "markdown",
   "metadata": {},
   "source": [
    "# Overall Prompt:\n",
    "\n",
    "A diagnostic test has a 98% probability of giving a positive result when applied to a person suffering from Thripshaw's Disease, and 10% probability of giving a (false) positive when applied to a non-sufferer. It is estimated that 0.5 % of the population are sufferers. Suppose that the test is now administered to a person whose disease status is unknown. Calculate the probability that the test will:"
   ]
  },
  {
   "cell_type": "markdown",
   "metadata": {},
   "source": [
    "# Problem 1:\n",
    "\n",
    "Be positive"
   ]
  },
  {
   "cell_type": "code",
   "execution_count": 7,
   "metadata": {},
   "outputs": [
    {
     "name": "stdout",
     "output_type": "stream",
     "text": [
      "Probability of a positive test: 0.1044\n"
     ]
    }
   ],
   "source": [
    "print(\"Probability of a positive test: \" + str((positiveTestGivenInfected * percentOfSufferers) + (positiveTestGivenNotInfected * (1 - percentOfSufferers))))"
   ]
  },
  {
   "cell_type": "markdown",
   "metadata": {},
   "source": [
    "# Problem 2:\n",
    "\n",
    "Correctly diagnose a sufferer of Thripshaw's"
   ]
  },
  {
   "cell_type": "code",
   "execution_count": 8,
   "metadata": {},
   "outputs": [
    {
     "name": "stdout",
     "output_type": "stream",
     "text": [
      "Probability of correctly diagnosing a sufferer: 0.046934865900383135\n"
     ]
    }
   ],
   "source": [
    "print(\"Probability of correctly diagnosing a sufferer: \" + str(positiveTestGivenInfected * percentOfSufferers / ((positiveTestGivenInfected * percentOfSufferers) + (positiveTestGivenNotInfected * (1 - percentOfSufferers)))))"
   ]
  },
  {
   "cell_type": "markdown",
   "metadata": {},
   "source": [
    "# Problem 3:\n",
    "\n",
    "Correctly identify a non-sufferer of Thripshaw's"
   ]
  },
  {
   "cell_type": "code",
   "execution_count": 12,
   "metadata": {},
   "outputs": [
    {
     "name": "stdout",
     "output_type": "stream",
     "text": [
      "Probability of correctly diagnosing a non-sufferer: 0.9998883430102724\n"
     ]
    }
   ],
   "source": [
    "print(\"Probability of correctly diagnosing a non-sufferer: \" + str((1 - positiveTestGivenNotInfected) * (1 - percentOfSufferers) / (((1 - positiveTestGivenInfected) * percentOfSufferers) + ((1 - positiveTestGivenNotInfected) * (1 - percentOfSufferers)))))"
   ]
  },
  {
   "cell_type": "markdown",
   "metadata": {},
   "source": [
    "# Problem 4:\n",
    "\n",
    "Misclassify the person"
   ]
  },
  {
   "cell_type": "code",
   "execution_count": 2,
   "metadata": {},
   "outputs": [
    {
     "name": "stdout",
     "output_type": "stream",
     "text": [
      "Probability of misclassifying a person: 0.9531767910893444\n"
     ]
    }
   ],
   "source": [
    "falsePositive = ((positiveTestGivenNotInfected) * (1 - percentOfSufferers)) / ((positiveTestGivenInfected * percentOfSufferers) + (positiveTestGivenNotInfected * (1 - percentOfSufferers)))\n",
    "falseNegative = ((1 - positiveTestGivenInfected) * percentOfSufferers) / (((1 - positiveTestGivenInfected) * percentOfSufferers) + ((1 - positiveTestGivenNotInfected) * (1 - percentOfSufferers)))\n",
    "print(\"Probability of misclassifying a person: \" + str(falsePositive + falseNegative))"
   ]
  }
 ],
 "metadata": {
  "kernelspec": {
   "display_name": "Python 3",
   "language": "python",
   "name": "python3"
  },
  "language_info": {
   "codemirror_mode": {
    "name": "ipython",
    "version": 3
   },
   "file_extension": ".py",
   "mimetype": "text/x-python",
   "name": "python",
   "nbconvert_exporter": "python",
   "pygments_lexer": "ipython3",
   "version": "3.7.0"
  }
 },
 "nbformat": 4,
 "nbformat_minor": 2
}
