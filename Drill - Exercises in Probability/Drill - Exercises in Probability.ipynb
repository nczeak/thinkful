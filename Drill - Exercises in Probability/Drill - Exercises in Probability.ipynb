{
 "cells": [
  {
   "cell_type": "code",
   "execution_count": null,
   "metadata": {},
   "outputs": [],
   "source": [
    "import numpy as np"
   ]
  },
  {
   "cell_type": "markdown",
   "metadata": {},
   "source": [
    "# Problem 1:"
   ]
  },
  {
   "cell_type": "code",
   "execution_count": 3,
   "metadata": {},
   "outputs": [
    {
     "name": "stdout",
     "output_type": "stream",
     "text": [
      "Probability of flipping exactly HTTH: 0.0625\n",
      "Probability of flipping exactly HHHH: 0.0625\n",
      "Probability of flipping exactly TTHH: 0.0625\n"
     ]
    }
   ],
   "source": [
    "flippedCombinations = [\"HTTH\", \"HHHH\", \"TTHH\"]\n",
    "for thisCombination in flippedCombinations:\n",
    "    print(\"Probability of flipping exactly \" + thisCombination + \": \" + str(0.5**len(thisCombination)))"
   ]
  },
  {
   "cell_type": "markdown",
   "metadata": {},
   "source": [
    "# Problem 2:"
   ]
  },
  {
   "cell_type": "code",
   "execution_count": 5,
   "metadata": {},
   "outputs": [
    {
     "name": "stdout",
     "output_type": "stream",
     "text": [
      "Probability of choosing a man: 0.4666666666666667\n",
      "Probability of choosing not a man: 0.5333333333333333\n"
     ]
    }
   ],
   "source": [
    "menAmount = 21\n",
    "womenAmount = 24\n",
    "print(\"Probability of choosing a man: \" + str(menAmount / (menAmount + womenAmount)))\n",
    "print(\"Probability of choosing not a man: \" + str(1 - (menAmount / (menAmount + womenAmount))))"
   ]
  },
  {
   "cell_type": "markdown",
   "metadata": {},
   "source": [
    "# Problem 3:"
   ]
  },
  {
   "cell_type": "code",
   "execution_count": 6,
   "metadata": {},
   "outputs": [
    {
     "name": "stdout",
     "output_type": "stream",
     "text": [
      "Probability Bernice is in a plane crash: 5e-06\n"
     ]
    }
   ],
   "source": [
    "probabilityPlaneTravel = 0.1\n",
    "probabilityPlaneCrash = 0.00005\n",
    "print(\"Probability Bernice is in a plane crash: \" + str(probabilityPlaneTravel * probabilityPlaneCrash))"
   ]
  },
  {
   "cell_type": "markdown",
   "metadata": {},
   "source": [
    "# Problem 4:"
   ]
  },
  {
   "cell_type": "markdown",
   "metadata": {},
   "source": [
    "One of the issues is that the sample population is very low. 5% may not be enough to draw a proper conclusion from. Another issue is that the survey may not be properly answered by those chosen. A user may not actually know how much time they spend on a website."
   ]
  }
 ],
 "metadata": {
  "kernelspec": {
   "display_name": "Python 3",
   "language": "python",
   "name": "python3"
  },
  "language_info": {
   "codemirror_mode": {
    "name": "ipython",
    "version": 3
   },
   "file_extension": ".py",
   "mimetype": "text/x-python",
   "name": "python",
   "nbconvert_exporter": "python",
   "pygments_lexer": "ipython3",
   "version": "3.7.0"
  }
 },
 "nbformat": 4,
 "nbformat_minor": 2
}
