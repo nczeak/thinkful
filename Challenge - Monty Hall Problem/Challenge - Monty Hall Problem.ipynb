{
 "cells": [
  {
   "cell_type": "code",
   "execution_count": 4,
   "metadata": {},
   "outputs": [],
   "source": [
    "import numpy as np\n",
    "import random\n",
    "\n",
    "switchedList = []\n",
    "notSwitchedList = []"
   ]
  },
  {
   "cell_type": "code",
   "execution_count": 67,
   "metadata": {},
   "outputs": [
    {
     "name": "stdout",
     "output_type": "stream",
     "text": [
      "Approximate probability of winning a car without switching doors: 0.3339\n",
      "Approximate probability of winning a car by switching doors: 0.6661\n"
     ]
    }
   ],
   "source": [
    "'''Lists to store boolean values for winning a car with each method'''\n",
    "switchedList = []\n",
    "notSwitchedList = []\n",
    "\n",
    "'''Run 10,000 simulations for each method'''\n",
    "for thisIteration in range(0, 10000):\n",
    "    \n",
    "    '''Choose the door the car is behind, and the door the player selected. Append boolean value for winning a car to the non-switched list'''\n",
    "    carDoor = random.randint(1, 3)\n",
    "    pickedDoor = random.randint(1, 3)\n",
    "    notSwitchedList.append(carDoor == pickedDoor)\n",
    "    \n",
    "    '''Select the door shown by the game host'''\n",
    "    notShowableList = set([carDoor, pickedDoor])\n",
    "    shownDoor = carDoor\n",
    "    while shownDoor in notShowableList:\n",
    "        shownDoor = random.randint(1, 3)\n",
    "        \n",
    "    '''Switch the door picked'''\n",
    "    newPickedDoor = shownDoor\n",
    "    notPickableList = set([shownDoor, pickedDoor])\n",
    "    while newPickedDoor in notPickableList:\n",
    "        newPickedDoor = random.randint(1, 3)\n",
    "    switchedList.append(newPickedDoor == carDoor)\n",
    "    \n",
    "'''Print probabilities of both methods'''\n",
    "print(\"Approximate probability of winning a car without switching doors: \" + str(sum(notSwitchedList) / len(notSwitchedList)))\n",
    "print(\"Approximate probability of winning a car by switching doors: \" + str(sum(switchedList) / len(switchedList)))"
   ]
  }
 ],
 "metadata": {
  "kernelspec": {
   "display_name": "Python 3",
   "language": "python",
   "name": "python3"
  },
  "language_info": {
   "codemirror_mode": {
    "name": "ipython",
    "version": 3
   },
   "file_extension": ".py",
   "mimetype": "text/x-python",
   "name": "python",
   "nbconvert_exporter": "python",
   "pygments_lexer": "ipython3",
   "version": "3.7.0"
  }
 },
 "nbformat": 4,
 "nbformat_minor": 2
}
