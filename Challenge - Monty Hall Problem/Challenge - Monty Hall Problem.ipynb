{
 "cells": [
  {
   "cell_type": "markdown",
   "metadata": {},
   "source": [
    "One of the classic problems in this space is referred to as the Monty Hall Problem. Some people even use this as an interview question! It is deceptively simple, and really digging into it reveals a myriad of approaches and some serious applications of conditional probability. The story goes like this:\n",
    "\n",
    "You are on a game show and given the choice of whatever is behind three doors. Behind one door is a fantastic prize (some examples use a car, others use cash) while behind the other two doors is a dud (some examples say a goat, others say it's just empty). You pick a door. Then the host opens one of the other two doors to reveal a dud. But here's the wrinkle: the host now gives you the opportunity to switch your door. What should you do?\n",
    "\n",
    "Write up some notes on this problem, including how you think Bayes' Rule might apply. Drop a link to your notes below and discuss it with your mentor."
   ]
  },
  {
   "cell_type": "code",
   "execution_count": 4,
   "metadata": {},
   "outputs": [],
   "source": [
    "import numpy as np\n",
    "import random\n",
    "\n",
    "switchedList = []\n",
    "notSwitchedList = []"
   ]
  },
  {
   "cell_type": "code",
   "execution_count": 67,
   "metadata": {},
   "outputs": [
    {
     "name": "stdout",
     "output_type": "stream",
     "text": [
      "Approximate probability of winning a car without switching doors: 0.3339\n",
      "Approximate probability of winning a car by switching doors: 0.6661\n"
     ]
    }
   ],
   "source": [
    "'''Lists to store boolean values for winning a car with each method'''\n",
    "switchedList = []\n",
    "notSwitchedList = []\n",
    "\n",
    "'''Run 10,000 simulations for each method'''\n",
    "for thisIteration in range(0, 10000):\n",
    "    \n",
    "    '''Choose the door the car is behind, and the door the player selected. Append boolean value for winning a car to the non-switched list'''\n",
    "    carDoor = random.randint(1, 3)\n",
    "    pickedDoor = random.randint(1, 3)\n",
    "    notSwitchedList.append(carDoor == pickedDoor)\n",
    "    \n",
    "    '''Select the door shown by the game host'''\n",
    "    notShowableList = set([carDoor, pickedDoor])\n",
    "    shownDoor = carDoor\n",
    "    while shownDoor in notShowableList:\n",
    "        shownDoor = random.randint(1, 3)\n",
    "        \n",
    "    '''Switch the door picked'''\n",
    "    newPickedDoor = shownDoor\n",
    "    notPickableList = set([shownDoor, pickedDoor])\n",
    "    while newPickedDoor in notPickableList:\n",
    "        newPickedDoor = random.randint(1, 3)\n",
    "    switchedList.append(newPickedDoor == carDoor)\n",
    "    \n",
    "'''Print probabilities of both methods'''\n",
    "print(\"Approximate probability of winning a car without switching doors: \" + str(sum(notSwitchedList) / len(notSwitchedList)))\n",
    "print(\"Approximate probability of winning a car by switching doors: \" + str(sum(switchedList) / len(switchedList)))"
   ]
  },
  {
   "cell_type": "markdown",
   "metadata": {},
   "source": [
    "Based on the simulation I wrote, it is better to switch doors than to not switch doors. Bayes' Rule applies here due to the conditional probabilities associated with switching doors vs. not switching doors."
   ]
  }
 ],
 "metadata": {
  "kernelspec": {
   "display_name": "Python 3",
   "language": "python",
   "name": "python3"
  },
  "language_info": {
   "codemirror_mode": {
    "name": "ipython",
    "version": 3
   },
   "file_extension": ".py",
   "mimetype": "text/x-python",
   "name": "python",
   "nbconvert_exporter": "python",
   "pygments_lexer": "ipython3",
   "version": "3.7.0"
  }
 },
 "nbformat": 4,
 "nbformat_minor": 2
}
