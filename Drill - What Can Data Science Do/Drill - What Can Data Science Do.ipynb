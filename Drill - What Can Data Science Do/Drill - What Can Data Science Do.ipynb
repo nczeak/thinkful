{
 "cells": [
  {
   "cell_type": "markdown",
   "metadata": {},
   "source": [
    "# Question 1:"
   ]
  },
  {
   "cell_type": "markdown",
   "metadata": {},
   "source": [
    "If the goal of the advertising is to bring in the largest potential profit for the company, then I would want to find the expected profit margin for each product. I would find the expected profit margin by implementing the following formula:\n",
    "\n",
    "Expected Profit Margin = Conversion Percentage * (Product Price - Product Cost)\n",
    "\n",
    "I would find the product with the maximum expected profit margin and tell the head of marketing to feature that product in the new advertising campaign. I would only use the total numbers for activity on a website, pageviews, and purchases to confirm that the sample size for the conversion percentage was large enough to use in the expected profit margin formula."
   ]
  },
  {
   "cell_type": "markdown",
   "metadata": {},
   "source": [
    "# Question 2:"
   ]
  },
  {
   "cell_type": "markdown",
   "metadata": {},
   "source": [
    "I would first analyze the amount of signups relative to the marketing spend. If signups were directly related to how much the company spends on marketing, and marketing spend was lower in the recent timeframe, then I would suggest increasing the marketing spend to increase signups. I would also evaluate if there was a significant dropoff in a step in the signup process, and evaluate how long a successful completion of the step usually takes. If successful completion takes too long, then I would tell the company to try and make the step less complicated."
   ]
  },
  {
   "cell_type": "markdown",
   "metadata": {},
   "source": [
    "# Question 3:"
   ]
  },
  {
   "cell_type": "markdown",
   "metadata": {},
   "source": [
    "If the quality of the hotels is not being considered, then I would simply use the session information to determine what the user tends to interact with more: a more cost-efficient hotel, or a less cost-efficient hotel. I would also see if a user would click on a hotel that isn't available. If users tend to like a more cost-efficient hotel that is available, my ranking system would rank only available hotels by their cost efficiency from highest to lowest."
   ]
  },
  {
   "cell_type": "markdown",
   "metadata": {},
   "source": [
    "# Question 4:"
   ]
  },
  {
   "cell_type": "markdown",
   "metadata": {},
   "source": [
    "I would first establish what the typical churn is for the company. I would find a lengthy span of time where the churn is steady, and define that as the company's typical churn. I would then use the average length of session, logins per day, and the timestamp distribution from that steady time. I would compare those metrics from the steady timespan to the same metrics from the recent month to determine if the recent churn was atypical."
   ]
  }
 ],
 "metadata": {
  "kernelspec": {
   "display_name": "Python 3",
   "language": "python",
   "name": "python3"
  },
  "language_info": {
   "codemirror_mode": {
    "name": "ipython",
    "version": 3
   },
   "file_extension": ".py",
   "mimetype": "text/x-python",
   "name": "python",
   "nbconvert_exporter": "python",
   "pygments_lexer": "ipython3",
   "version": "3.7.0"
  }
 },
 "nbformat": 4,
 "nbformat_minor": 2
}
