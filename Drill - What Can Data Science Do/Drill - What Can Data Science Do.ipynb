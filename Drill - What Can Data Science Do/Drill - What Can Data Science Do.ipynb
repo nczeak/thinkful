{
 "cells": [
  {
   "cell_type": "markdown",
   "metadata": {},
   "source": [
    "Below we have a series of questions for you to translate into a technical plan. For each question, describe how you would make it testable and translate it from a general question into something statistically rigorous. Write your answers down in a shareable document and submit the link below."
   ]
  },
  {
   "cell_type": "markdown",
   "metadata": {},
   "source": [
    "# Question 1:\n",
    "\n",
    "You work at an e-commerce company that sells three goods: widgets, doodads, and fizzbangs. The head of advertising asks you which they should feature in their new advertising campaign. You have data on individual visitors' sessions (activity on a website, pageviews, and purchases), as well as whether or not those users converted from an advertisement for that session. You also have the cost and price information for the goods."
   ]
  },
  {
   "cell_type": "markdown",
   "metadata": {},
   "source": [
    "If the goal of the advertising is to bring in the largest potential profit for the company, then I would want to find the expected profit margin for each product. I would find the expected profit margin by implementing the following formula:\n",
    "\n",
    "Expected Profit Margin = Conversion Percentage * (Product Price - Product Cost)\n",
    "\n",
    "I would find the product with the maximum expected profit margin and tell the head of marketing to feature that product in the new advertising campaign. I would only use the total numbers for activity on a website, pageviews, and purchases to confirm that the sample size for the conversion percentage was large enough to use in the expected profit margin formula."
   ]
  },
  {
   "cell_type": "markdown",
   "metadata": {},
   "source": [
    "# Question 2:\n",
    "\n",
    "You work at a web design company that offers to build websites for clients. Signups have slowed, and you are tasked with finding out why. The onboarding funnel has three steps: email and password signup, plan choice, and payment. On a user level you have information on what steps they have completed as well as timestamps for all of those events for the past 3 years. You also have information on marketing spend on a weekly level."
   ]
  },
  {
   "cell_type": "markdown",
   "metadata": {},
   "source": [
    "I would first analyze the amount of signups relative to the marketing spend. If signups were directly related to how much the company spends on marketing, and marketing spend was lower in the recent timeframe, then I would suggest increasing the marketing spend to increase signups. I would also evaluate if there was a significant dropoff in a step in the signup process, and evaluate how long a successful completion of the step usually takes. If successful completion takes too long, then I would tell the company to try and make the step less complicated."
   ]
  },
  {
   "cell_type": "markdown",
   "metadata": {},
   "source": [
    "# Question 3:\n",
    "\n",
    "You work at a hotel website and currently the website ranks search results by price. For simplicity's sake, let's say it's a website for one city with 100 hotels. You are tasked with proposing a better ranking system. You have session information, price information for the hotels, and whether each hotel is currently available."
   ]
  },
  {
   "cell_type": "markdown",
   "metadata": {},
   "source": [
    "If the quality of the hotels is not being considered, then I would simply use the session information to determine what the user tends to interact with more: a more cost-efficient hotel, or a less cost-efficient hotel. I would also see if a user would click on a hotel that isn't available. If users tend to like a more cost-efficient hotel that is available, my ranking system would rank only available hotels by their cost efficiency from highest to lowest."
   ]
  },
  {
   "cell_type": "markdown",
   "metadata": {},
   "source": [
    "# Question 4:\n",
    "\n",
    "You work at a social network, and the management is worried about churn (users stopping using the product). You are tasked with finding out if their churn is atypical. You have three years of data for users with an entry for every time they've logged in, including the timestamp and length of session."
   ]
  },
  {
   "cell_type": "markdown",
   "metadata": {},
   "source": [
    "I would first establish what the typical churn is for the company. I would find a lengthy span of time where the churn is steady, and define that as the company's typical churn. I would then use the average length of session, logins per day, and the timestamp distribution from that steady time. I would compare those metrics from the steady timespan to the same metrics from the recent month to determine if the recent churn was atypical."
   ]
  }
 ],
 "metadata": {
  "kernelspec": {
   "display_name": "Python 3",
   "language": "python",
   "name": "python3"
  },
  "language_info": {
   "codemirror_mode": {
    "name": "ipython",
    "version": 3
   },
   "file_extension": ".py",
   "mimetype": "text/x-python",
   "name": "python",
   "nbconvert_exporter": "python",
   "pygments_lexer": "ipython3",
   "version": "3.7.0"
  }
 },
 "nbformat": 4,
 "nbformat_minor": 2
}
