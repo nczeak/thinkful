{
 "cells": [
  {
   "cell_type": "markdown",
   "metadata": {},
   "source": [
    "In each of the scenarios, find possible shortcomings of the theoretical or actual data sources to answer the given question. What could be done to either adjust the analysis or reframe the question so that you can answer it accurately?"
   ]
  },
  {
   "cell_type": "markdown",
   "metadata": {},
   "source": [
    "# Problem 1:\n",
    "\n",
    "Data Source: Amsterdam availability data scraped from AirBnB on December 24th. Question: What are the popular neighborhoods in Amsterdam?"
   ]
  },
  {
   "cell_type": "markdown",
   "metadata": {},
   "source": [
    "The first problem with the dataset is that Christmas Eve would likely have a lot of popular spots closed for the holidays. A lot of residents that host BnBs may not want their homes to be open to strangers on a holiday. Another issue with the dataset is that BnBs may not be a good indication of popular spots in town. BnBs are residential; however, commercial locations may be far more popular and would not be covered by BnB data. I would include all BnB data for all dates, and ask the question \"Where are popular locations for tourists to stay in Amsterdam?\""
   ]
  },
  {
   "cell_type": "markdown",
   "metadata": {},
   "source": [
    "# Problem 2:\n",
    "\n",
    "Data Source: Mental health services use on September 12, 2001 in San Francisco, CA and New York City, NY. Question: How do patterns of mental health service use vary between cities?"
   ]
  },
  {
   "cell_type": "markdown",
   "metadata": {},
   "source": [
    "Mental health services would clearly boom in NYC the day after September 11, 2001. Using a single day as a sample in a dataset that is supposed to tell a story over time is never a good idea. If we still wanted to include both cities, I'd include a decade's worth of data and ask the same question asked in the problem. However, if we wanted to focus on 9/11, I would exclude San Francisco and include 2000, 2001, and 2002 for years included in the dataset and ask \"How much did 9/11 affect mental health services in NYC?\""
   ]
  },
  {
   "cell_type": "markdown",
   "metadata": {},
   "source": [
    "# Problem 3:\n",
    "\n",
    "Data Source: Armenian Pub Survey. Question: What are the most common reasons Armenians visit local pubs? (Link to survey: https://www.kaggle.com/erikhambardzumyan/pubs)"
   ]
  },
  {
   "cell_type": "markdown",
   "metadata": {},
   "source": [
    "I like the question asked in the problem. However, there are a few possible issues with the dataset that may not reflect the average Armenian. First, the population sample skews very young. Second, 58% of the participants interviewed were female, compared to only 42% male. Other than that, the sample population may very well represent the average Armenian pub attendee."
   ]
  }
 ],
 "metadata": {
  "kernelspec": {
   "display_name": "Python 3",
   "language": "python",
   "name": "python3"
  },
  "language_info": {
   "codemirror_mode": {
    "name": "ipython",
    "version": 3
   },
   "file_extension": ".py",
   "mimetype": "text/x-python",
   "name": "python",
   "nbconvert_exporter": "python",
   "pygments_lexer": "ipython3",
   "version": "3.7.0"
  }
 },
 "nbformat": 4,
 "nbformat_minor": 2
}
