{
 "cells": [
  {
   "cell_type": "markdown",
   "metadata": {},
   "source": [
    "Now that you have some code to create your own populations, sample them, and compare the samples to the populations, it's time to experiment. Using your own Jupyter notebook, or a copy of the notebook from the previous assignment, reproduce the pop1 and pop2 populations and samples, using numpy's binomial function. Specifically, create two binomially distributed populations with n equal to 10 and size equal to 10000. The p-value of pop1 should be 0.2 and the p-value of pop2 should be 0.5. Using a sample size of 100, calculate the means and standard deviations of your samples."
   ]
  },
  {
   "cell_type": "code",
   "execution_count": 23,
   "metadata": {},
   "outputs": [
    {
     "data": {
      "image/png": "[encoded data removed]",
      "text/plain": [
       "<Figure size 432x288 with 1 Axes>"
      ]
     },
     "metadata": {
      "needs_background": "light"
     },
     "output_type": "display_data"
    },
    {
     "name": "stdout",
     "output_type": "stream",
     "text": [
      "Population 1 Mean: 2.0111\n",
      "Population 2 Mean: 5.001\n",
      "Population 1 Standard Deviation: 1.2688486079907249\n",
      "Population 2 Standard Deviation: 1.5901569104965712\n"
     ]
    }
   ],
   "source": [
    "import numpy as np\n",
    "import matplotlib.pyplot as plotFunctions\n",
    "import scipy.stats\n",
    "\n",
    "pop1 = np.random.binomial(10, 0.2, 10000)\n",
    "pop2 = np.random.binomial(10, 0.5, 10000)\n",
    "\n",
    "plotFunctions.hist(pop1, alpha=0.5, label='Population 1') \n",
    "plotFunctions.hist(pop2, alpha=0.5, label='Population 2') \n",
    "plotFunctions.legend(loc='upper right') \n",
    "plotFunctions.show()\n",
    "print(\"Population 1 Mean: \" + str(pop1.mean()))\n",
    "print(\"Population 2 Mean: \" + str(pop2.mean()))\n",
    "print(\"Population 1 Standard Deviation: \" + str(pop1.std()))\n",
    "print(\"Population 2 Standard Deviation: \" + str(pop2.std()))"
   ]
  },
  {
   "cell_type": "code",
   "execution_count": 24,
   "metadata": {},
   "outputs": [
    {
     "data": {
      "image/png": "[encoded data removed]",
      "text/plain": [
       "<Figure size 432x288 with 1 Axes>"
      ]
     },
     "metadata": {
      "needs_background": "light"
     },
     "output_type": "display_data"
    },
    {
     "name": "stdout",
     "output_type": "stream",
     "text": [
      "Sample 1 Mean: 2.12\n",
      "Sample 2 Mean: 4.96\n",
      "Sample 1 Standard Deviation: 1.1855800268223144\n",
      "Sample 2 Standard Deviation: 1.6426807358704856\n"
     ]
    }
   ],
   "source": [
    "sample1 = np.random.choice(pop1, 100, replace=True)\n",
    "sample2 = np.random.choice(pop2, 100, replace=True)\n",
    "\n",
    "plotFunctions.hist(sample1, alpha=0.5, label='sample 1') \n",
    "plotFunctions.hist(sample2, alpha=0.5, label='sample 2') \n",
    "plotFunctions.legend(loc='upper right') \n",
    "plotFunctions.show()\n",
    "print(\"Sample 1 Mean: \" + str(sample1.mean()))\n",
    "print(\"Sample 2 Mean: \" + str(sample2.mean()))\n",
    "print(\"Sample 1 Standard Deviation: \" + str(sample1.std()))\n",
    "print(\"Sample 2 Standard Deviation: \" + str(sample2.std()))"
   ]
  },
  {
   "cell_type": "markdown",
   "metadata": {},
   "source": [
    "For each of the following tasks, first write what you expect will happen, then code the changes and observe what does happen. Discuss the results with your mentor."
   ]
  },
  {
   "cell_type": "markdown",
   "metadata": {},
   "source": [
    "# Task 1:\n",
    "\n",
    "Increase the size of your samples from 100 to 1000, then calculate the means and standard deviations for your new samples and create histograms for each. Repeat this again, decreasing the size of your samples to 20. What values change, and what remain the same?"
   ]
  },
  {
   "cell_type": "markdown",
   "metadata": {},
   "source": [
    "If I'm going to increase the sample size from 100 to 1,000, I expect the sample mean and sample standard deviation to more accurately reflect the population mean and standard deviation."
   ]
  },
  {
   "cell_type": "code",
   "execution_count": 25,
   "metadata": {},
   "outputs": [
    {
     "data": {
      "image/png": "[encoded data removed]",
      "text/plain": [
       "<Figure size 432x288 with 1 Axes>"
      ]
     },
     "metadata": {
      "needs_background": "light"
     },
     "output_type": "display_data"
    },
    {
     "name": "stdout",
     "output_type": "stream",
     "text": [
      "Sample 1 Mean: 2.053\n",
      "Sample 2 Mean: 4.966\n",
      "Sample 1 Standard Deviation: 1.2993040444791972\n",
      "Sample 2 Standard Deviation: 1.6645852336242803\n"
     ]
    }
   ],
   "source": [
    "sample1 = np.random.choice(pop1, 1000, replace=True)\n",
    "sample2 = np.random.choice(pop2, 1000, replace=True)\n",
    "\n",
    "plotFunctions.hist(sample1, alpha=0.5, label='sample 1') \n",
    "plotFunctions.hist(sample2, alpha=0.5, label='sample 2') \n",
    "plotFunctions.legend(loc='upper right') \n",
    "plotFunctions.show()\n",
    "print(\"Sample 1 Mean: \" + str(sample1.mean()))\n",
    "print(\"Sample 2 Mean: \" + str(sample2.mean()))\n",
    "print(\"Sample 1 Standard Deviation: \" + str(sample1.std()))\n",
    "print(\"Sample 2 Standard Deviation: \" + str(sample2.std()))"
   ]
  },
  {
   "cell_type": "markdown",
   "metadata": {},
   "source": [
    "If I'm going to decrease the sample size from 100 to 20, I would expect the sample mean and sample standard deviation to less accurately reflect the population mean and population standard deviation."
   ]
  },
  {
   "cell_type": "code",
   "execution_count": 26,
   "metadata": {},
   "outputs": [
    {
     "data": {
      "image/png": "[encoded data removed]",
      "text/plain": [
       "<Figure size 432x288 with 1 Axes>"
      ]
     },
     "metadata": {
      "needs_background": "light"
     },
     "output_type": "display_data"
    },
    {
     "name": "stdout",
     "output_type": "stream",
     "text": [
      "Sample 1 Mean: 1.75\n",
      "Sample 2 Mean: 4.55\n",
      "Sample 1 Standard Deviation: 1.2196310917650468\n",
      "Sample 2 Standard Deviation: 1.8567444627627143\n"
     ]
    }
   ],
   "source": [
    "sample1 = np.random.choice(pop1, 20, replace=True)\n",
    "sample2 = np.random.choice(pop2, 20, replace=True)\n",
    "\n",
    "plotFunctions.hist(sample1, alpha=0.5, label='sample 1') \n",
    "plotFunctions.hist(sample2, alpha=0.5, label='sample 2') \n",
    "plotFunctions.legend(loc='upper right') \n",
    "plotFunctions.show()\n",
    "print(\"Sample 1 Mean: \" + str(sample1.mean()))\n",
    "print(\"Sample 2 Mean: \" + str(sample2.mean()))\n",
    "print(\"Sample 1 Standard Deviation: \" + str(sample1.std()))\n",
    "print(\"Sample 2 Standard Deviation: \" + str(sample2.std()))"
   ]
  },
  {
   "cell_type": "markdown",
   "metadata": {},
   "source": [
    "In both of the above examples, both the means and standard deviations of the populations changed. However, the standard deviations did not vary as wildly as the means."
   ]
  },
  {
   "cell_type": "markdown",
   "metadata": {},
   "source": [
    "# Task 2:\n",
    "\n",
    "Change the probability value (p in the NumPy documentation) for pop1 to 0.3, then take new samples and compute the t-statistic and p-value. Then change the probability value p for group 1 to 0.4, and do it again. What changes, and why?"
   ]
  },
  {
   "cell_type": "markdown",
   "metadata": {},
   "source": [
    "If we're changing the p-value for population 1 to a value closer to the p-value of population 2, then the t-value of the populations will shrink. The t-values for the samples will depend on the sample size of the population."
   ]
  },
  {
   "cell_type": "code",
   "execution_count": 27,
   "metadata": {},
   "outputs": [
    {
     "data": {
      "image/png": "[encoded data removed]",
      "text/plain": [
       "<Figure size 432x288 with 1 Axes>"
      ]
     },
     "metadata": {
      "needs_background": "light"
     },
     "output_type": "display_data"
    },
    {
     "name": "stdout",
     "output_type": "stream",
     "text": [
      "Population 1 Mean: 2.995\n",
      "Population 2 Mean: 5.001\n",
      "Population 1 Standard Deviation: 1.4457437532287665\n",
      "Population 2 Standard Deviation: 1.5901569104965712\n"
     ]
    }
   ],
   "source": [
    "pop1 = np.random.binomial(10, 0.3, 10000)\n",
    "\n",
    "plotFunctions.hist(pop1, alpha=0.5, label='Population 1') \n",
    "plotFunctions.hist(pop2, alpha=0.5, label='Population 2') \n",
    "plotFunctions.legend(loc='upper right') \n",
    "plotFunctions.show()\n",
    "print(\"Population 1 Mean: \" + str(pop1.mean()))\n",
    "print(\"Population 2 Mean: \" + str(pop2.mean()))\n",
    "print(\"Population 1 Standard Deviation: \" + str(pop1.std()))\n",
    "print(\"Population 2 Standard Deviation: \" + str(pop2.std()))"
   ]
  },
  {
   "cell_type": "code",
   "execution_count": 29,
   "metadata": {},
   "outputs": [
    {
     "data": {
      "image/png": "[encoded data removed]",
      "text/plain": [
       "<Figure size 432x288 with 1 Axes>"
      ]
     },
     "metadata": {
      "needs_background": "light"
     },
     "output_type": "display_data"
    },
    {
     "name": "stdout",
     "output_type": "stream",
     "text": [
      "Sample 1 Mean: 3.19\n",
      "Sample 2 Mean: 5.42\n",
      "Sample 1 Standard Deviation: 1.553673067282818\n",
      "Sample 2 Standard Deviation: 1.5374004032782091\n",
      "Ttest_indResult(statistic=10.15131051542281, pvalue=9.266355360274977e-20)\n"
     ]
    }
   ],
   "source": [
    "sample1 = np.random.choice(pop1, 100, replace=True)\n",
    "sample2 = np.random.choice(pop2, 100, replace=True)\n",
    "\n",
    "plotFunctions.hist(sample1, alpha=0.5, label='sample 1') \n",
    "plotFunctions.hist(sample2, alpha=0.5, label='sample 2') \n",
    "plotFunctions.legend(loc='upper right') \n",
    "plotFunctions.show()\n",
    "print(\"Sample 1 Mean: \" + str(sample1.mean()))\n",
    "print(\"Sample 2 Mean: \" + str(sample2.mean()))\n",
    "print(\"Sample 1 Standard Deviation: \" + str(sample1.std()))\n",
    "print(\"Sample 2 Standard Deviation: \" + str(sample2.std()))\n",
    "print(scipy.stats.ttest_ind(sample2, sample1, equal_var=False))"
   ]
  },
  {
   "cell_type": "code",
   "execution_count": 30,
   "metadata": {},
   "outputs": [
    {
     "data": {
      "image/png": "[encoded data removed]",
      "text/plain": [
       "<Figure size 432x288 with 1 Axes>"
      ]
     },
     "metadata": {
      "needs_background": "light"
     },
     "output_type": "display_data"
    },
    {
     "name": "stdout",
     "output_type": "stream",
     "text": [
      "Population 1 Mean: 3.9885\n",
      "Population 2 Mean: 5.001\n",
      "Population 1 Standard Deviation: 1.563703216726243\n",
      "Population 2 Standard Deviation: 1.5901569104965712\n"
     ]
    }
   ],
   "source": [
    "pop1 = np.random.binomial(10, 0.4, 10000)\n",
    "\n",
    "plotFunctions.hist(pop1, alpha=0.5, label='Population 1') \n",
    "plotFunctions.hist(pop2, alpha=0.5, label='Population 2') \n",
    "plotFunctions.legend(loc='upper right') \n",
    "plotFunctions.show()\n",
    "print(\"Population 1 Mean: \" + str(pop1.mean()))\n",
    "print(\"Population 2 Mean: \" + str(pop2.mean()))\n",
    "print(\"Population 1 Standard Deviation: \" + str(pop1.std()))\n",
    "print(\"Population 2 Standard Deviation: \" + str(pop2.std()))"
   ]
  },
  {
   "cell_type": "code",
   "execution_count": 33,
   "metadata": {},
   "outputs": [
    {
     "data": {
      "image/png": "[encoded data removed]",
      "text/plain": [
       "<Figure size 432x288 with 1 Axes>"
      ]
     },
     "metadata": {
      "needs_background": "light"
     },
     "output_type": "display_data"
    },
    {
     "name": "stdout",
     "output_type": "stream",
     "text": [
      "Sample 1 Mean: 3.77\n",
      "Sample 2 Mean: 5.08\n",
      "Sample 1 Standard Deviation: 1.725427483263206\n",
      "Sample 2 Standard Deviation: 1.6166632302368975\n",
      "Ttest_indResult(statistic=5.51259134308574, pvalue=1.0986130609932947e-07)\n"
     ]
    }
   ],
   "source": [
    "sample1 = np.random.choice(pop1, 100, replace=True)\n",
    "sample2 = np.random.choice(pop2, 100, replace=True)\n",
    "\n",
    "plotFunctions.hist(sample1, alpha=0.5, label='sample 1') \n",
    "plotFunctions.hist(sample2, alpha=0.5, label='sample 2') \n",
    "plotFunctions.legend(loc='upper right') \n",
    "plotFunctions.show()\n",
    "print(\"Sample 1 Mean: \" + str(sample1.mean()))\n",
    "print(\"Sample 2 Mean: \" + str(sample2.mean()))\n",
    "print(\"Sample 1 Standard Deviation: \" + str(sample1.std()))\n",
    "print(\"Sample 2 Standard Deviation: \" + str(sample2.std()))\n",
    "print(scipy.stats.ttest_ind(sample2, sample1, equal_var=False))"
   ]
  },
  {
   "cell_type": "markdown",
   "metadata": {},
   "source": [
    "# Task 3:\n",
    "\n",
    "Change the distribution of your populations from binomial to a distribution of your choice. Do the sample mean values still accurately represent the population values?"
   ]
  },
  {
   "cell_type": "code",
   "execution_count": 36,
   "metadata": {},
   "outputs": [
    {
     "data": {
      "image/png": "[encoded data removed]",
      "text/plain": [
       "<Figure size 432x288 with 1 Axes>"
      ]
     },
     "metadata": {
      "needs_background": "light"
     },
     "output_type": "display_data"
    },
    {
     "name": "stdout",
     "output_type": "stream",
     "text": [
      "Population 1 Mean: 2.0440270871377018\n",
      "Population 2 Mean: 9.953506775061806\n",
      "Population 1 Standard Deviation: 2.0469077772996855\n",
      "Population 2 Standard Deviation: 7.106702679772189\n"
     ]
    }
   ],
   "source": [
    "pop1 = np.random.gamma(1, 2, 10000)\n",
    "pop2 = np.random.gamma(2, 5, 10000)\n",
    "\n",
    "plotFunctions.hist(pop1, alpha=0.5, label='Population 1') \n",
    "plotFunctions.hist(pop2, alpha=0.5, label='Population 2') \n",
    "plotFunctions.legend(loc='upper right') \n",
    "plotFunctions.show()\n",
    "print(\"Population 1 Mean: \" + str(pop1.mean()))\n",
    "print(\"Population 2 Mean: \" + str(pop2.mean()))\n",
    "print(\"Population 1 Standard Deviation: \" + str(pop1.std()))\n",
    "print(\"Population 2 Standard Deviation: \" + str(pop2.std()))"
   ]
  },
  {
   "cell_type": "code",
   "execution_count": 37,
   "metadata": {},
   "outputs": [
    {
     "data": {
      "image/png": "[encoded data removed]",
      "text/plain": [
       "<Figure size 432x288 with 1 Axes>"
      ]
     },
     "metadata": {
      "needs_background": "light"
     },
     "output_type": "display_data"
    },
    {
     "name": "stdout",
     "output_type": "stream",
     "text": [
      "Sample 1 Mean: 1.8388332916762231\n",
      "Sample 2 Mean: 8.70211305902896\n",
      "Sample 1 Standard Deviation: 1.5692976896490776\n",
      "Sample 2 Standard Deviation: 5.750023708759638\n"
     ]
    }
   ],
   "source": [
    "sample1 = np.random.choice(pop1, 100, replace=True)\n",
    "sample2 = np.random.choice(pop2, 100, replace=True)\n",
    "\n",
    "plotFunctions.hist(sample1, alpha=0.5, label='sample 1') \n",
    "plotFunctions.hist(sample2, alpha=0.5, label='sample 2') \n",
    "plotFunctions.legend(loc='upper right') \n",
    "plotFunctions.show()\n",
    "print(\"Sample 1 Mean: \" + str(sample1.mean()))\n",
    "print(\"Sample 2 Mean: \" + str(sample2.mean()))\n",
    "print(\"Sample 1 Standard Deviation: \" + str(sample1.std()))\n",
    "print(\"Sample 2 Standard Deviation: \" + str(sample2.std()))"
   ]
  },
  {
   "cell_type": "markdown",
   "metadata": {},
   "source": [
    "The sample mean and the sample standard deviation both reflect the population."
   ]
  }
 ],
 "metadata": {
  "kernelspec": {
   "display_name": "Python 3",
   "language": "python",
   "name": "python3"
  },
  "language_info": {
   "codemirror_mode": {
    "name": "ipython",
    "version": 3
   },
   "file_extension": ".py",
   "mimetype": "text/x-python",
   "name": "python",
   "nbconvert_exporter": "python",
   "pygments_lexer": "ipython3",
   "version": "3.7.0"
  }
 },
 "nbformat": 4,
 "nbformat_minor": 2
}
