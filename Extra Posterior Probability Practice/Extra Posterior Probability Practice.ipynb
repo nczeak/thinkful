{
 "cells": [
  {
   "cell_type": "code",
   "execution_count": 4,
   "metadata": {},
   "outputs": [],
   "source": [
    "import numpy as np\n",
    "\n",
    "goingUpProbability = 0.9\n",
    "stockUpMarketGood = 0.75\n",
    "stockUpMarketFair = 0.2\n",
    "stockUpMarketBad = 0.05\n",
    "stockDownMarketGood = 0.6\n",
    "stockDownMarketFair = 0.3\n",
    "stockDownMarketBad = 0.1"
   ]
  },
  {
   "cell_type": "markdown",
   "metadata": {},
   "source": [
    "#### Problem A:"
   ]
  },
  {
   "cell_type": "code",
   "execution_count": 11,
   "metadata": {},
   "outputs": [
    {
     "name": "stdout",
     "output_type": "stream",
     "text": [
      "Probability of stock going up given bad market: 0.818\n"
     ]
    }
   ],
   "source": [
    "totalProbability = (goingUpProbability * stockUpMarketBad) + ((1 - goingUpProbability) * stockDownMarketBad)\n",
    "posteriorProbability = round((stockUpMarketBad * goingUpProbability) / totalProbability, 3)\n",
    "\n",
    "print(\"Probability of stock going up given bad market: \" + str(posteriorProbability))"
   ]
  },
  {
   "cell_type": "markdown",
   "metadata": {},
   "source": [
    "   The total proability is defined by the market being bad regardless of the stock movement. I then use the conditional probability of the stock going up when the market is bad and the probability of the stock going up with the total probability to calculate the posterior probability."
   ]
  },
  {
   "cell_type": "markdown",
   "metadata": {},
   "source": [
    "#### Problem B:"
   ]
  },
  {
   "cell_type": "code",
   "execution_count": 13,
   "metadata": {},
   "outputs": [
    {
     "name": "stdout",
     "output_type": "stream",
     "text": [
      "Probability of stock going down given good market: 0.082\n"
     ]
    }
   ],
   "source": [
    "totalProbability = (goingUpProbability * stockUpMarketGood) + ((1 - goingUpProbability) * stockDownMarketGood)\n",
    "posteriorProbability = round((stockDownMarketGood * (1 - goingUpProbability)) / totalProbability, 3)\n",
    "\n",
    "print(\"Probability of stock going down given good market: \" + str(posteriorProbability))"
   ]
  },
  {
   "cell_type": "markdown",
   "metadata": {},
   "source": [
    "   The total probability is defined by the market being good regardless of the stock movement. I then use the conditional probability of the stock going down when the market is good with the probability of the stock going down with the total probability to calculate the posterior probability."
   ]
  },
  {
   "cell_type": "markdown",
   "metadata": {},
   "source": [
    "#### Problem C:"
   ]
  },
  {
   "cell_type": "code",
   "execution_count": 14,
   "metadata": {},
   "outputs": [
    {
     "name": "stdout",
     "output_type": "stream",
     "text": [
      "Probability of stock going down given fair market: 0.143\n"
     ]
    }
   ],
   "source": [
    "totalProbability = (goingUpProbability * stockUpMarketFair) + ((1 - goingUpProbability) * stockDownMarketFair)\n",
    "posteriorProbability = round((stockDownMarketFair * (1 - goingUpProbability)) / totalProbability, 3)\n",
    "\n",
    "print(\"Probability of stock going down given fair market: \" + str(posteriorProbability))"
   ]
  },
  {
   "cell_type": "markdown",
   "metadata": {},
   "source": [
    "   The total probability is defined by the market being fair regardless of the stock movement. I then use the conditional probability of the stock going down when the market is fair with the probability of the stock going down with the total probability to calculate the posterior probability."
   ]
  },
  {
   "cell_type": "markdown",
   "metadata": {},
   "source": [
    "#### Problem D:"
   ]
  },
  {
   "cell_type": "code",
   "execution_count": 15,
   "metadata": {},
   "outputs": [
    {
     "name": "stdout",
     "output_type": "stream",
     "text": [
      "Probability of stock going down given bad market: 0.182\n"
     ]
    }
   ],
   "source": [
    "totalProbability = (goingUpProbability * stockUpMarketBad) + ((1 - goingUpProbability) * stockDownMarketBad)\n",
    "posteriorProbability = round((stockDownMarketBad * (1 - goingUpProbability)) / totalProbability, 3)\n",
    "\n",
    "print(\"Probability of stock going down given bad market: \" + str(posteriorProbability))"
   ]
  },
  {
   "cell_type": "markdown",
   "metadata": {},
   "source": [
    "The total probability is defined by the market being bad regardless of the stock movement. I then use the conditional probability of the stock going down when the market is bad and the probability of the stock going down with the total probability to calculate the posterior probability."
   ]
  }
 ],
 "metadata": {
  "kernelspec": {
   "display_name": "Python 3",
   "language": "python",
   "name": "python3"
  },
  "language_info": {
   "codemirror_mode": {
    "name": "ipython",
    "version": 3
   },
   "file_extension": ".py",
   "mimetype": "text/x-python",
   "name": "python",
   "nbconvert_exporter": "python",
   "pygments_lexer": "ipython3",
   "version": "3.7.0"
  }
 },
 "nbformat": 4,
 "nbformat_minor": 2
}
